{
 "cells": [
  {
   "cell_type": "markdown",
   "metadata": {},
   "source": [
    "# Welcome to lesson 1 of the Python programming language\n",
    "\n",
    "In this lesson we will learn about\n",
    "\n",
    "* Statements\n",
    "* Variables\n",
    "* Operators and functions\n",
    "* Standard IO\n",
    "\n",
    "Lets run our first line of python code to make sure everyting is working properly.\n"
   ]
  },
  {
   "cell_type": "code",
   "execution_count": 8,
   "metadata": {},
   "outputs": [
    {
     "name": "stdout",
     "output_type": "stream",
     "text": [
      "Hello world\n"
     ]
    }
   ],
   "source": [
    "print(\"Hello world\")"
   ]
  },
  {
   "cell_type": "markdown",
   "metadata": {},
   "source": [
    "Great. Now lets use python as a calculator"
   ]
  },
  {
   "cell_type": "code",
   "execution_count": 9,
   "metadata": {},
   "outputs": [
    {
     "data": {
      "text/plain": [
       "9100"
      ]
     },
     "execution_count": 9,
     "metadata": {},
     "output_type": "execute_result"
    }
   ],
   "source": [
    "100+9000"
   ]
  },
  {
   "cell_type": "markdown",
   "metadata": {},
   "source": [
    "Remember the file system lesson. You can writes numbers in ones and zeros as well using the `0b` notation."
   ]
  },
  {
   "cell_type": "code",
   "execution_count": 10,
   "metadata": {},
   "outputs": [
    {
     "data": {
      "text/plain": [
       "6"
      ]
     },
     "execution_count": 10,
     "metadata": {},
     "output_type": "execute_result"
    }
   ],
   "source": [
    "0b0000010+0b0000100 # 2 + 4"
   ]
  },
  {
   "cell_type": "markdown",
   "metadata": {},
   "source": [
    "Now lets learn what a variable is. It's a little box in computer memory that contains a value. Numbers and strings (text) are the simplest ones."
   ]
  },
  {
   "cell_type": "code",
   "execution_count": 11,
   "metadata": {},
   "outputs": [
    {
     "data": {
      "text/plain": [
       "398"
      ]
     },
     "execution_count": 11,
     "metadata": {},
     "output_type": "execute_result"
    }
   ],
   "source": [
    "a = 99\n",
    "b = 299\n",
    "a + b\n"
   ]
  },
  {
   "cell_type": "markdown",
   "metadata": {},
   "source": [
    "In programming; whole numbers are called **integers**. Numbers with a comma (Americans perferred a point '.' and that stuck) are called **floats** (meaning 'floating point'). All you need to know right now is that integers and floats are saved differently in memory. Python will do a sneaky thing a convert an integer to a float. But for now you can just learn to write a floating point number."
   ]
  },
  {
   "cell_type": "code",
   "execution_count": 13,
   "metadata": {},
   "outputs": [
    {
     "name": "stdout",
     "output_type": "stream",
     "text": [
      "12.5\n"
     ]
    }
   ],
   "source": [
    "my_school_grade_for_programming = 8.5\n",
    "my_school_grade_for_french = 4\n",
    "total_grade = my_school_grade_for_programming + my_school_grade_for_french\n",
    "print(total_grade)\n"
   ]
  },
  {
   "cell_type": "markdown",
   "metadata": {},
   "source": [
    "Pieces of text are a type of value in most programming languages -- just like a number -- and we call them strings. Lets put some strings in variables and add them together.\n",
    "\n",
    "You can use either single quotes like this `greeting = 'hello'`...\n",
    "\n",
    "or double ones like this `greeting = \"hello\"`. It does not matter."
   ]
  },
  {
   "cell_type": "code",
   "execution_count": 12,
   "metadata": {},
   "outputs": [
    {
     "data": {
      "text/plain": [
       "'Pablo Romero'"
      ]
     },
     "execution_count": 12,
     "metadata": {},
     "output_type": "execute_result"
    }
   ],
   "source": [
    "first_name = \"Pablo\"\n",
    "last_name = 'Romero'\n",
    "first_name + \" \" + last_name"
   ]
  },
  {
   "cell_type": "markdown",
   "metadata": {},
   "source": [
    "So now we can add numbers and concatenate strings. We have also learned about variables. One more thing though. You need to learn the words statement and expression:\n",
    "\n",
    "* Expression: Unit that has adefinite and unique value. Examples of expressions are `50` or `\"pablo\"` or `print` or `if`.\n",
    "* Statement: A group of expressions that specify some action to be carried out. An example of a statement is `print('I'm the best')`\n",
    "\n",
    "**In the python programming language the rule is that each statement must be on a new line.**\n",
    "\n",
    "(This is not the case in other programming languages by the way.)"
   ]
  }
 ],
 "metadata": {
  "kernelspec": {
   "display_name": "Python 3",
   "language": "python",
   "name": "python3"
  },
  "language_info": {
   "codemirror_mode": {
    "name": "ipython",
    "version": 3
   },
   "file_extension": ".py",
   "mimetype": "text/x-python",
   "name": "python",
   "nbconvert_exporter": "python",
   "pygments_lexer": "ipython3",
   "version": "3.11.6"
  }
 },
 "nbformat": 4,
 "nbformat_minor": 2
}
