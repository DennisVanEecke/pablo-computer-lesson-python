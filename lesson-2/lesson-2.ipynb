{
 "cells": [
  {
   "cell_type": "markdown",
   "metadata": {},
   "source": [
    "# Lesson 2: Standard IO and functions\n",
    "\n",
    "**IO** means 'Input Output'\n",
    "**Input**: Putting data into the computer\n",
    "**Output**: The computer showing data to you.\n",
    "\n",
    "In this case the input and output are text.\n",
    "\n",
    "Lets learn about the `print` and `input` functions. We'll learn about functions later."
   ]
  },
  {
   "cell_type": "code",
   "execution_count": 16,
   "metadata": {},
   "outputs": [
    {
     "name": "stdout",
     "output_type": "stream",
     "text": [
      "Please state your name\n",
      "Hello Pablo\n"
     ]
    }
   ],
   "source": [
    "print('Please state your name')\n",
    "name = input('Your name: ')\n",
    "print('Hello ' + name)"
   ]
  },
  {
   "cell_type": "markdown",
   "metadata": {},
   "source": [
    "So the input function lets you input a text string. The print function prints something to the console.\n",
    "But these inputs are saved as text strings. If we want to interpret them as numbers you'll have to pass them in the `int` function. To make an int back into a string you habe to use the `str` function.\n",
    "\n",
    "Lets make a calculator:"
   ]
  },
  {
   "cell_type": "code",
   "execution_count": 17,
   "metadata": {},
   "outputs": [
    {
     "name": "stdout",
     "output_type": "stream",
     "text": [
      "The sum is: 24\n"
     ]
    }
   ],
   "source": [
    "a_text = input('First number: ')\n",
    "b_text = input('Second number: ')\n",
    "print('The sum is: ' + str(int(a_text) + int(b_text)))"
   ]
  },
  {
   "cell_type": "markdown",
   "metadata": {},
   "source": [
    "Wait what? To undertand this code we need to learn about functions.\n",
    "\n",
    "**Function**: A function is a block of organized, reusable code that is used to perform a single, related action\n",
    "\n",
    "A function can take values (called parameters) as input and returns value(s) as output. In python we call a function like this:\n",
    "\n",
    "```python\n",
    "function_name(parameter)\n",
    "```\n",
    "\n",
    "These are examples of functions being called and used:\n",
    "\n",
    "```python\n",
    "print(\"This is a function call\")\n",
    "str(12) # Transform this number into text\n",
    "int(\"12\") # Transform this text into a number\n",
    "```\n",
    "\n",
    "Notice the `#`? That's just a way to add some comments to the code. All text after the `#` will be ignored.\n",
    "A '+' is actually a function also with two parameters.\n",
    "\n",
    "So lets look back at the calculator:\n",
    "\n",
    "```python\n",
    "print('The sum is: ' + str(int(a_text) + int(b_text)))\n",
    "```\n",
    "\n",
    "If we take it apart:\n",
    "\n",
    "![](./statement-breakdown.png)\n",
    "\n",
    "So do you get what a function is now?\n",
    "\n",
    "There is more more thing I'd like to explain. Values in programming language have a **type**.\n",
    "\n",
    "We've already working with three types:\n",
    "\n",
    "* **String**: A piece of text. You write a literal string like this in python `\"Hi!\"`\n",
    "* **Int**: A whole number positive or negative. You write a literal number like this in Python `1` or `-100`.\n",
    "* **Float**: A decimal number positive or negative. You write a float like this in Python `1.1234` or `1.0` or `-8798.78`\n",
    "\n",
    "The ouput of the `str` funtion is a string.\n",
    "\n",
    "The output of the `int` function is an integer (or int).\n",
    "\n",
    "The output of the `str` function is a string.\n",
    "\n",
    "The `print` function only takes string as input.\n",
    "\n",
    "Now you need to remember: **Python will try to AUTOMATICALLY convert types for you sometimes!**\n",
    "\n",
    "So `print(14)` will work. But what python is acutally doing is `print(str(14))`\n",
    "\n",
    "Lets try it.\n"
   ]
  },
  {
   "cell_type": "code",
   "execution_count": 18,
   "metadata": {},
   "outputs": [
    {
     "name": "stdout",
     "output_type": "stream",
     "text": [
      "14\n",
      "30.5\n",
      "3.3333333333333335\n"
     ]
    }
   ],
   "source": [
    "print(14)\n",
    "print(14 + 16.5) # 14 gets converted to a float and then the floats are added\n",
    "print(10 / 3) # The division `/` operator only works on floats. To 10 and 3 get converted to 10.0 and 3.0"
   ]
  },
  {
   "cell_type": "markdown",
   "metadata": {},
   "source": [
    "What happens if you shove a variable of the wrong type into a function? You get an **error message** and the program stops. Lets try it."
   ]
  },
  {
   "cell_type": "code",
   "execution_count": 19,
   "metadata": {},
   "outputs": [
    {
     "ename": "ValueError",
     "evalue": "invalid literal for int() with base 10: \"I am not a number. Let's stop the universe.\"",
     "output_type": "error",
     "traceback": [
      "\u001b[0;31m---------------------------------------------------------------------------\u001b[0m",
      "\u001b[0;31mValueError\u001b[0m                                Traceback (most recent call last)",
      "Cell \u001b[0;32mIn[19], line 1\u001b[0m\n\u001b[0;32m----> 1\u001b[0m \u001b[38;5;28;43mint\u001b[39;49m\u001b[43m(\u001b[49m\u001b[38;5;124;43m\"\u001b[39;49m\u001b[38;5;124;43mI am not a number. Let\u001b[39;49m\u001b[38;5;124;43m'\u001b[39;49m\u001b[38;5;124;43ms stop the universe.\u001b[39;49m\u001b[38;5;124;43m\"\u001b[39;49m\u001b[43m)\u001b[49m \u001b[38;5;66;03m# Oops. The int function can only take numbers\u001b[39;00m\n",
      "\u001b[0;31mValueError\u001b[0m: invalid literal for int() with base 10: \"I am not a number. Let's stop the universe.\""
     ]
    }
   ],
   "source": [
    "int(\"I am not a number. Let's stop the universe.\") # Oops. The int function can only take numbers"
   ]
  },
  {
   "cell_type": "markdown",
   "metadata": {},
   "source": [
    "Lets make another add a number to a string"
   ]
  },
  {
   "cell_type": "code",
   "execution_count": null,
   "metadata": {},
   "outputs": [
    {
     "ename": "TypeError",
     "evalue": "unsupported operand type(s) for +: 'int' and 'str'",
     "output_type": "error",
     "traceback": [
      "\u001b[0;31m---------------------------------------------------------------------------\u001b[0m",
      "\u001b[0;31mTypeError\u001b[0m                                 Traceback (most recent call last)",
      "Cell \u001b[0;32mIn[10], line 1\u001b[0m\n\u001b[0;32m----> 1\u001b[0m \u001b[38;5;28mprint\u001b[39m(\u001b[38;5;241;43m14\u001b[39;49m\u001b[43m \u001b[49m\u001b[38;5;241;43m+\u001b[39;49m\u001b[43m \u001b[49m\u001b[38;5;124;43m\"\u001b[39;49m\u001b[38;5;124;43mBombs away\u001b[39;49m\u001b[38;5;124;43m\"\u001b[39;49m)\n",
      "\u001b[0;31mTypeError\u001b[0m: unsupported operand type(s) for +: 'int' and 'str'"
     ]
    }
   ],
   "source": [
    "print(14 + \"Bombs away\")"
   ]
  },
  {
   "cell_type": "markdown",
   "metadata": {},
   "source": [
    "Now we know about variables, values, types and functions. Now it's time to learn how to write your own function. This is how you write one in python. I'll give you two examples:\n",
    "\n",
    "```python\n",
    "def greeting(name):\n",
    "  return 'Hello ' + name\n",
    "```\n",
    "\n",
    "```python\n",
    "def addition(a, b):\n",
    "  return a + b\n",
    "```\n",
    "\n",
    "Notice the `def` keyword, the function name and the parenthesis with parameters separated as commas. In python the function body follows the `def` keyword and is spaced out using a tab. '⇥' The expression behind the `return` keyword in the function body gets evaluated and treated as ouput. Lets try them."
   ]
  },
  {
   "cell_type": "code",
   "execution_count": null,
   "metadata": {},
   "outputs": [
    {
     "name": "stdout",
     "output_type": "stream",
     "text": [
      "Hello Dennis\n",
      "26\n"
     ]
    }
   ],
   "source": [
    "def greeting(name):\n",
    "  return 'Hello ' + name\n",
    "\n",
    "def addition(a, b):\n",
    "  return a + b\n",
    "\n",
    "print(greeting('Dennis'))\n",
    "print(addition(12,14))\n"
   ]
  },
  {
   "cell_type": "markdown",
   "metadata": {},
   "source": [
    "It works! Not all functions need the return keyword. Some function just perform some statements and give no output. You don't need the return function in this case. Let's show this with an example:"
   ]
  },
  {
   "cell_type": "code",
   "execution_count": null,
   "metadata": {},
   "outputs": [
    {
     "name": "stdout",
     "output_type": "stream",
     "text": [
      "This function is the sole property of Dennis and must not be copied.\n"
     ]
    }
   ],
   "source": [
    "def print_legal_advice(name):\n",
    "  print('This function is the sole property of ' + name + ' and must not be copied.')\n",
    "\n",
    "print_legal_advice('Dennis')"
   ]
  },
  {
   "cell_type": "markdown",
   "metadata": {},
   "source": [
    "Some functions don't even need parameters. Just type empty parentheses `()`."
   ]
  },
  {
   "cell_type": "code",
   "execution_count": null,
   "metadata": {},
   "outputs": [
    {
     "name": "stdout",
     "output_type": "stream",
     "text": [
      "Whatever happens this will always have the same output\n"
     ]
    }
   ],
   "source": [
    "def function_without_parameters():\n",
    "  print('Whatever happens this will always have the same output')\n",
    "\n",
    "function_without_parameters()"
   ]
  },
  {
   "cell_type": "markdown",
   "metadata": {},
   "source": [
    "Lets go nuts and make a function with a lot of parameters."
   ]
  },
  {
   "cell_type": "code",
   "execution_count": null,
   "metadata": {},
   "outputs": [
    {
     "name": "stdout",
     "output_type": "stream",
     "text": [
      "Awesome value as parameter:10100\n"
     ]
    }
   ],
   "source": [
    "def print_and_add(text, a, b):\n",
    "  sum = a + b\n",
    "  print(text + ': ' + str(sum))\n",
    "\n",
    "print_and_add('Awesome value as parameter', 100, 10000)"
   ]
  },
  {
   "cell_type": "markdown",
   "metadata": {},
   "source": [
    "Lastly. A function with no parameters and an output"
   ]
  },
  {
   "cell_type": "code",
   "execution_count": null,
   "metadata": {},
   "outputs": [
    {
     "name": "stdout",
     "output_type": "stream",
     "text": [
      "132.0\n"
     ]
    }
   ],
   "source": [
    "def magic_number():\n",
    "  return 99 + (99 / 3)\n",
    "\n",
    "print(magic_number())"
   ]
  }
 ],
 "metadata": {
  "kernelspec": {
   "display_name": "Python 3",
   "language": "python",
   "name": "python3"
  },
  "language_info": {
   "codemirror_mode": {
    "name": "ipython",
    "version": 3
   },
   "file_extension": ".py",
   "mimetype": "text/x-python",
   "name": "python",
   "nbconvert_exporter": "python",
   "pygments_lexer": "ipython3",
   "version": "3.11.6"
  }
 },
 "nbformat": 4,
 "nbformat_minor": 2
}
