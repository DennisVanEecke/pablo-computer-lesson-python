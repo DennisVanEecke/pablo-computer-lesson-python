{
 "cells": [
  {
   "cell_type": "markdown",
   "metadata": {},
   "source": [
    "# Lesson 2: Standard IO and functions\n",
    "\n",
    "**IO** means 'Input Output'\n",
    "**Input**: Putting data into the computer\n",
    "**Output**: The computer showing data to you.\n",
    "\n",
    "In this case the input and output are text.\n",
    "\n",
    "Lets learn about the `print` and `input` functions. We'll learn about functions later."
   ]
  },
  {
   "cell_type": "code",
   "execution_count": 2,
   "metadata": {},
   "outputs": [
    {
     "name": "stdout",
     "output_type": "stream",
     "text": [
      "Please state your name\n",
      "Hello Pablo\n"
     ]
    }
   ],
   "source": [
    "print('Please state your name')\n",
    "name = input('Your name: ')\n",
    "print('Hello ' + name)"
   ]
  },
  {
   "cell_type": "markdown",
   "metadata": {},
   "source": [
    "So the input function lets you input a text string. The print function prints something to the console.\n",
    "But these inputs are saved as text strings. If we want to interpret them as numbers you'll have to pass them in the `int` function. To make an int back into a string you habe to use the `str` function.\n",
    "\n",
    "Lets make a calculator:"
   ]
  },
  {
   "cell_type": "code",
   "execution_count": 4,
   "metadata": {},
   "outputs": [
    {
     "name": "stdout",
     "output_type": "stream",
     "text": [
      "The sum is: 15\n"
     ]
    }
   ],
   "source": [
    "a_text = input('First number: ')\n",
    "b_text = input('Second number: ')\n",
    "print('The sum is: ' + str(int(a_text) + int(b_text)))"
   ]
  },
  {
   "cell_type": "markdown",
   "metadata": {},
   "source": [
    "Wait what? To undertand this code we need to learn about functions.\n",
    "\n",
    "**Function**: A function is a block of organized, reusable code that is used to perform a single, related action\n",
    "\n",
    "A function can take values (called parameters) as input and returns value(s) as output. In python we call a function like this:\n",
    "\n",
    "```python\n",
    "function_name(parameter)\n",
    "```\n",
    "\n",
    "These are examples of functions being called and used:\n",
    "\n",
    "```python\n",
    "print(\"This is a function call\")\n",
    "str(12) # Transform this number into text\n",
    "int(\"12\") # Transform this text into a number\n",
    "```\n",
    "\n",
    "Notice the `#`? That's just a way to add some comments to the code. All text after the `#` will be ignored.\n",
    "A '+' is actually a function also with two parameters.\n",
    "\n",
    "So lets look back at the calculator:\n",
    "\n",
    "```python\n",
    "print('The sum is: ' + str(int(a_text) + int(b_text)))\n",
    "```\n",
    "\n",
    "If we take it apart:\n",
    "![](./statement-breakdown.png)\n",
    "\n",
    "So do you get what a function is now?"
   ]
  }
 ],
 "metadata": {
  "kernelspec": {
   "display_name": "Python 3",
   "language": "python",
   "name": "python3"
  },
  "language_info": {
   "codemirror_mode": {
    "name": "ipython",
    "version": 3
   },
   "file_extension": ".py",
   "mimetype": "text/x-python",
   "name": "python",
   "nbconvert_exporter": "python",
   "pygments_lexer": "ipython3",
   "version": "3.11.6"
  }
 },
 "nbformat": 4,
 "nbformat_minor": 2
}
